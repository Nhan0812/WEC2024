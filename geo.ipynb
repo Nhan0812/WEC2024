{
 "cells": [
  {
   "cell_type": "code",
   "execution_count": 1,
   "metadata": {},
   "outputs": [],
   "source": [
    "import geopandas as gpd\n",
    "import pandas as pd"
   ]
  },
  {
   "cell_type": "code",
   "execution_count": 2,
   "metadata": {},
   "outputs": [],
   "source": [
    "gdf = gpd.read_file(\"E:/Personal/WEC - UW/shapefile/map_municipalities.shp\")\n",
    "gdf_partition = gpd.read_file(\"E:/Personal/WEC - UW/shapefile/map_partitions.shp\")"
   ]
  },
  {
   "cell_type": "code",
   "execution_count": 3,
   "metadata": {},
   "outputs": [],
   "source": [
    "col_data_type = {'municipality_code': str, 'county_code':str}\n",
    "data_mun = pd.read_csv(\"E:/Personal/WEC - UW/data_municipalities.csv\", dtype=col_data_type)"
   ]
  },
  {
   "cell_type": "code",
   "execution_count": 4,
   "metadata": {},
   "outputs": [
    {
     "name": "stderr",
     "output_type": "stream",
     "text": [
      "C:\\Users\\ACER\\AppData\\Roaming\\Python\\Python311\\site-packages\\IPython\\core\\interactiveshell.py:3493: FutureWarning: The `op` parameter is deprecated and will be removed in a future release. Please use the `predicate` parameter instead.\n",
      "  if await self.run_code(code, result, async_=asy):\n"
     ]
    }
   ],
   "source": [
    "gdf = gpd.sjoin(gdf, gdf_partition, how=\"left\", op = \"intersects\")\n",
    "gdf = gdf.drop(columns = [\"geometry\",\"index_right\",\"mncplty_n\"])\n",
    "gdf = gdf.rename(columns={\"mncplty_c\" : \"municipality_code\"})\n",
    "data_mun = pd.merge(data_mun, gdf, on =\"municipality_code\",how=\"left\")"
   ]
  },
  {
   "cell_type": "code",
   "execution_count": 5,
   "metadata": {},
   "outputs": [],
   "source": [
    "data_mun.to_csv(\"data_municipalities_partition.csv\", index=False)"
   ]
  }
 ],
 "metadata": {
  "kernelspec": {
   "display_name": "Python 3",
   "language": "python",
   "name": "python3"
  },
  "language_info": {
   "codemirror_mode": {
    "name": "ipython",
    "version": 3
   },
   "file_extension": ".py",
   "mimetype": "text/x-python",
   "name": "python",
   "nbconvert_exporter": "python",
   "pygments_lexer": "ipython3",
   "version": "3.11.7"
  }
 },
 "nbformat": 4,
 "nbformat_minor": 2
}
